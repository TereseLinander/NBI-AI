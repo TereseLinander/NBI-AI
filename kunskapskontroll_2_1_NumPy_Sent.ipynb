{
 "cells": [
  {
   "cell_type": "markdown",
   "id": "dacf74e6",
   "metadata": {},
   "source": [
    "# NumPy"
   ]
  },
  {
   "cell_type": "markdown",
   "id": "01b2bf34",
   "metadata": {},
   "source": [
    "Read the links: https://numpy.org/doc/stable/user/quickstart.html  and https://numpy.org/doc/stable/user/basics.broadcasting.html  before solving the exercises. "
   ]
  },
  {
   "cell_type": "code",
   "execution_count": 2,
   "id": "1f79e4a6",
   "metadata": {},
   "outputs": [],
   "source": [
    "import numpy as np"
   ]
  },
  {
   "cell_type": "markdown",
   "id": "7dae6889",
   "metadata": {},
   "source": [
    "### Print out the dimension (number of axes), shape, size and the datatype of the matrix A."
   ]
  },
  {
   "cell_type": "code",
   "execution_count": 4,
   "id": "7b3678cd",
   "metadata": {},
   "outputs": [],
   "source": [
    "A = np.arange(1, 16).reshape(3,5)"
   ]
  },
  {
   "cell_type": "code",
   "execution_count": 6,
   "id": "31d39235",
   "metadata": {},
   "outputs": [
    {
     "name": "stdout",
     "output_type": "stream",
     "text": [
      "2\n",
      "(3, 5)\n",
      "15\n",
      "int32\n"
     ]
    }
   ],
   "source": [
    "print(A.ndim)\n",
    "print(A.shape)\n",
    "print(A.size)\n",
    "print(A.dtype)"
   ]
  },
  {
   "cell_type": "markdown",
   "id": "e56d2a96",
   "metadata": {},
   "source": [
    "### Do the following computations on the matrices B and C: \n",
    "* Elementwise subtraction. \n",
    "* Elementwise multiplication. \n",
    "* Matrix multiplication (by default you should use the @ operator)."
   ]
  },
  {
   "cell_type": "code",
   "execution_count": 8,
   "id": "a7053fbb",
   "metadata": {},
   "outputs": [
    {
     "name": "stdout",
     "output_type": "stream",
     "text": [
      "[[1 2 3]\n",
      " [4 5 6]\n",
      " [7 8 9]]\n",
      "\n",
      "[[2. 2. 2.]\n",
      " [2. 2. 2.]\n",
      " [2. 2. 2.]]\n"
     ]
    }
   ],
   "source": [
    "B = np.arange(1, 10).reshape(3, 3) #matrix with numbers 1-9 in 3 rows and 3 cols\n",
    "C = np.ones((3, 3))*2 #matrix with the number 2 (1*2) in all positions/elements\n",
    "\n",
    "print(B)\n",
    "print()\n",
    "print(C)"
   ]
  },
  {
   "cell_type": "code",
   "execution_count": 149,
   "id": "3cd794ae",
   "metadata": {},
   "outputs": [
    {
     "name": "stdout",
     "output_type": "stream",
     "text": [
      "[[-1.  0.  1.]\n",
      " [ 2.  3.  4.]\n",
      " [ 5.  6.  7.]]\n",
      "\n",
      "[[ 2.  4.  6.]\n",
      " [ 8. 10. 12.]\n",
      " [14. 16. 18.]]\n",
      "\n",
      "[[12. 12. 12.]\n",
      " [30. 30. 30.]\n",
      " [48. 48. 48.]]\n"
     ]
    }
   ],
   "source": [
    "result_subtraction_elementwise = B-C #subtract 2 from each element in matrix B (C contains the number 2)\n",
    "result_multiply_elementwise = B*C #multiply each element in matrix B with the number 2\n",
    "result_matrix_multiply = B@C \n",
    "print(result_subtraction_elementwise)\n",
    "print()\n",
    "print(result_multiply_elementwise)\n",
    "print()\n",
    "print(result_matrix_multiply)"
   ]
  },
  {
   "cell_type": "markdown",
   "id": "96030d53",
   "metadata": {},
   "source": [
    "### Do the following calculations on the matrix:\n",
    "* Exponentiate each number elementwise (use the np.exp function).\n",
    "\n",
    "* Calculate the minimum value in the whole matrix. \n",
    "* Calculcate the minimum value in each row. \n",
    "* Calculcate the minimum value in each column. \n",
    "\n",
    "\n",
    "* Find the index value for the minimum value in the whole matrix (hint: use np.argmin).\n",
    "* Find the index value for the minimum value in each row (hint: use np.argmin).\n",
    "\n",
    "\n",
    "* Calculate the sum for all elements.\n",
    "* Calculate the mean for each column. \n",
    "* Calculate the median for each column. "
   ]
  },
  {
   "cell_type": "code",
   "execution_count": 16,
   "id": "f8a9166b",
   "metadata": {},
   "outputs": [
    {
     "name": "stdout",
     "output_type": "stream",
     "text": [
      "[[1 2 3]\n",
      " [4 5 6]\n",
      " [7 8 9]]\n"
     ]
    }
   ],
   "source": [
    "B = np.arange(1, 10).reshape(3, 3)\n",
    "print(B)"
   ]
  },
  {
   "cell_type": "code",
   "execution_count": 28,
   "id": "f03f24f7",
   "metadata": {},
   "outputs": [
    {
     "name": "stdout",
     "output_type": "stream",
     "text": [
      "Exponentierad matris:\n",
      " [[2.71828183e+00 7.38905610e+00 2.00855369e+01]\n",
      " [5.45981500e+01 1.48413159e+02 4.03428793e+02]\n",
      " [1.09663316e+03 2.98095799e+03 8.10308393e+03]]\n",
      "\n",
      "Minsta värdet i matrisen: 1\n",
      "\n",
      "Minsta värdet per rad: [1 4 7]\n",
      "\n",
      "Minsta värdet per kolumn: [1 2 3]\n",
      "\n",
      "Index för minsta värdet i matrisen: 0\n",
      "\n",
      "Index för minsta värdet per rad: [0 0 0]\n",
      "\n",
      "Summan av alla element: 45\n",
      "\n",
      "Medelvärde per kolumn: [4. 5. 6.]\n",
      "\n",
      "Median per kolumn: [4. 5. 6.]\n"
     ]
    }
   ],
   "source": [
    "result_exponentiate_elementwise = np.exp(B)\n",
    "print(\"Exponentierad matris:\\n\", result_exponentiate_elementwise)\n",
    "print()\n",
    "min_value = np.min(B)\n",
    "print(\"Minsta värdet i matrisen:\", min_value)\n",
    "print()\n",
    "min_value_row = np.min(B, axis=1)\n",
    "print(\"Minsta värdet per rad:\", min_value_row)\n",
    "print()\n",
    "min_value_col = np.min(B, axis=0)\n",
    "print(\"Minsta värdet per kolumn:\", min_value_col)\n",
    "print()\n",
    "index_min_matrix = np.argmin(B)\n",
    "print(\"Index för minsta värdet i matrisen:\", index_min_matrix)\n",
    "print()\n",
    "index_min_per_row = np.argmin(B, axis=1)\n",
    "print(\"Index för minsta värdet per rad:\", index_min_per_row)\n",
    "print()\n",
    "total_sum = np.sum(B)\n",
    "print(\"Summan av alla element:\", total_sum)\n",
    "print()\n",
    "mean_value_col = np.mean(B, axis=0)\n",
    "print(\"Medelvärde per kolumn:\", mean_value_col)\n",
    "print()\n",
    "median_value_col = np.median(B, axis=0)\n",
    "print(\"Median per kolumn:\", median_value_col)"
   ]
  },
  {
   "cell_type": "markdown",
   "id": "541eb7ba",
   "metadata": {},
   "source": [
    "### What does it mean when you provide fewer indices than axes when slicing? See example below."
   ]
  },
  {
   "cell_type": "code",
   "execution_count": 30,
   "id": "9c8abf56",
   "metadata": {},
   "outputs": [
    {
     "name": "stdout",
     "output_type": "stream",
     "text": [
      "[[ 1  2  3  4  5]\n",
      " [ 6  7  8  9 10]\n",
      " [11 12 13 14 15]]\n"
     ]
    }
   ],
   "source": [
    "print(A)"
   ]
  },
  {
   "cell_type": "code",
   "execution_count": 32,
   "id": "69415f7b",
   "metadata": {},
   "outputs": [
    {
     "data": {
      "text/plain": [
       "array([ 6,  7,  8,  9, 10])"
      ]
     },
     "execution_count": 32,
     "metadata": {},
     "output_type": "execute_result"
    }
   ],
   "source": [
    "A[1]"
   ]
  },
  {
   "cell_type": "markdown",
   "id": "6c53541b",
   "metadata": {},
   "source": [
    "**Answer:**"
   ]
  },
  {
   "cell_type": "code",
   "execution_count": 60,
   "id": "de01e120",
   "metadata": {},
   "outputs": [],
   "source": [
    "# When providing only one index when the matrix have two axes (rows and cols), numpy will select the first axes (the row) correspondning to the index given (i.e second row when index 1) and return all column values in that row as an 1D-array."
   ]
  },
  {
   "cell_type": "markdown",
   "id": "6652d0c9",
   "metadata": {},
   "source": [
    "### Iterating over multidimensional arrays is done with respect to the first axis, so in the example below we iterate trough the rows. If you would like to iterate through the array *elementwise*, how would you do that?"
   ]
  },
  {
   "cell_type": "code",
   "execution_count": 40,
   "id": "9459864f",
   "metadata": {},
   "outputs": [
    {
     "data": {
      "text/plain": [
       "array([[ 1,  2,  3,  4,  5],\n",
       "       [ 6,  7,  8,  9, 10],\n",
       "       [11, 12, 13, 14, 15]])"
      ]
     },
     "execution_count": 40,
     "metadata": {},
     "output_type": "execute_result"
    }
   ],
   "source": [
    "A"
   ]
  },
  {
   "cell_type": "code",
   "execution_count": 42,
   "id": "a671bb5a",
   "metadata": {},
   "outputs": [
    {
     "name": "stdout",
     "output_type": "stream",
     "text": [
      "[1 2 3 4 5]\n",
      "[ 6  7  8  9 10]\n",
      "[11 12 13 14 15]\n"
     ]
    }
   ],
   "source": [
    "for i in A:\n",
    "    print(i)"
   ]
  },
  {
   "cell_type": "code",
   "execution_count": 48,
   "id": "f4e443a0",
   "metadata": {},
   "outputs": [
    {
     "name": "stdout",
     "output_type": "stream",
     "text": [
      "1\n",
      "2\n",
      "3\n",
      "4\n",
      "5\n",
      "6\n",
      "7\n",
      "8\n",
      "9\n",
      "10\n",
      "11\n",
      "12\n",
      "13\n",
      "14\n",
      "15\n"
     ]
    }
   ],
   "source": [
    "#Use the flat-method to iterate a multidimentional array elementwise over all elements\n",
    "for element in A.flat:\n",
    "    print(element)"
   ]
  },
  {
   "cell_type": "markdown",
   "id": "608a2583",
   "metadata": {},
   "source": [
    "### Explain what the code below does. More specifically, b has three axes - what does this mean? "
   ]
  },
  {
   "cell_type": "code",
   "execution_count": 151,
   "id": "f8f9b26f",
   "metadata": {},
   "outputs": [
    {
     "name": "stdout",
     "output_type": "stream",
     "text": [
      "[ 0  1  2  3  4  5  6  7  8  9 10 11 12 13 14 15 16 17 18 19 20 21 22 23\n",
      " 24 25 26 27 28 29]\n",
      "\n",
      "[[[ 0  1  2  3  4]\n",
      "  [ 5  6  7  8  9]\n",
      "  [10 11 12 13 14]]\n",
      "\n",
      " [[15 16 17 18 19]\n",
      "  [20 21 22 23 24]\n",
      "  [25 26 27 28 29]]]\n"
     ]
    }
   ],
   "source": [
    "a = np.arange(30)\n",
    "b = a.reshape((2, 3, -1))\n",
    "print(a)\n",
    "print()\n",
    "\n",
    "print(b)"
   ]
  },
  {
   "cell_type": "code",
   "execution_count": null,
   "id": "863a45df",
   "metadata": {},
   "outputs": [],
   "source": [
    "# a = np.arange(30) creates a 1D array with numbers from 0 to 29 i.e. a vector/single row with 30 elements"
   ]
  },
  {
   "cell_type": "code",
   "execution_count": 50,
   "id": "eed38bbb-dd20-4d23-837f-679aa3d3a067",
   "metadata": {},
   "outputs": [],
   "source": [
    "# The .reshape() function changes the dimensions of the array without changing its data. The array b will have 3 axes i.e. a 3D array\n",
    "# The -1 tells NumPy to automatically calculate the correct size for that axis based on the total number of elements in the array.\n",
    "# 30 elements in vector a, 2*3 = 6 elements --> calculates third dimension = 30/6 = 5\n"
   ]
  },
  {
   "cell_type": "markdown",
   "id": "421c9607-819a-401d-949a-97424436fe29",
   "metadata": {},
   "source": [
    "# For the exercises below, read the document *\"matematik_yh_antonio_vektorer_matriser_utdrag\"*\n",
    "# Solutions to the exercises and recorded videos can be found here: https://github.com/AntonioPrgomet/matematik_foer_yh\n",
    "\n",
    "# If you find the exercises below very hard, do not worry. Try your best, that will be enough. "
   ]
  },
  {
   "cell_type": "markdown",
   "id": "ab5933d5",
   "metadata": {},
   "source": [
    "### Broadcasting\n",
    "**Read the following link about broadcasting: https://numpy.org/doc/stable/user/basics.broadcasting.html#basics-broadcasting**"
   ]
  },
  {
   "cell_type": "markdown",
   "id": "039805ba",
   "metadata": {},
   "source": [
    "# Remark on Broadcasting when doing Linear Algebra calculations in Python. "
   ]
  },
  {
   "cell_type": "markdown",
   "id": "c4bcc147",
   "metadata": {},
   "source": [
    "### From the mathematical rules of matrix addition, the operation below (m1 + m2) does not make sense. The reason is that matrix addition requires two matrices of the same size. In Python however, it works due to broadcasting rules in NumPy. So you must be careful when doing Linear Algebra calculations in Python since they do not follow the \"mathematical rules\". This can however easily be handled by doing some simple programming, for example validating that two matrices have the same shape is easy if you for instance want to add two matrices. "
   ]
  },
  {
   "cell_type": "code",
   "execution_count": 52,
   "id": "1fd46778",
   "metadata": {},
   "outputs": [
    {
     "name": "stdout",
     "output_type": "stream",
     "text": [
      "[[2 3]\n",
      " [4 5]]\n"
     ]
    }
   ],
   "source": [
    "m1 = np.array([[1, 2], [3, 4]])\n",
    "m2 = np.array([1, 1])\n",
    "print(m1 + m2)"
   ]
  },
  {
   "cell_type": "markdown",
   "id": "047d6576",
   "metadata": {},
   "source": [
    "### The example below would also not be allowed if following the \"mathematical rules\" in Linear Algebra. But it works due to broadcasting in NumPy. "
   ]
  },
  {
   "cell_type": "code",
   "execution_count": 54,
   "id": "5e6ef2e4",
   "metadata": {},
   "outputs": [
    {
     "name": "stdout",
     "output_type": "stream",
     "text": [
      "[2 3 4]\n"
     ]
    }
   ],
   "source": [
    "v1 = np.array([1, 2, 3])\n",
    "print(v1 + 1)"
   ]
  },
  {
   "cell_type": "code",
   "execution_count": 153,
   "id": "e2cbae26",
   "metadata": {},
   "outputs": [
    {
     "name": "stdout",
     "output_type": "stream",
     "text": [
      "[[1 2]\n",
      " [3 4]]\n",
      "\n",
      "[2 2]\n"
     ]
    }
   ],
   "source": [
    "A = np.arange(1, 5).reshape(2,2)\n",
    "print(A)\n",
    "print()\n",
    "b = np.array([2, 2])\n",
    "print(b)"
   ]
  },
  {
   "cell_type": "markdown",
   "id": "722fd5cd",
   "metadata": {},
   "source": [
    "# Vector- and matrix algebra Exercises"
   ]
  },
  {
   "cell_type": "markdown",
   "id": "b63a3081-d976-4d9f-bfd0-a63917e79f7d",
   "metadata": {},
   "source": [
    "**Now you are going to create a function that can be reused every time you add or multiply matrices. The function is created so that we do the addition and multiplication according to the rules of vector- and matrix algebra.**\n",
    "\n",
    "**Create a function \"add_mult_matrices\" that takes two matrices as input arguments (validate that the input are of the type numpy.ndarray by using the isinstance function), a third argument that is either 'add' or 'multiply' that specifies if you want to add or multiply the matrices (validate that the third argument is either 'add' or 'multiply'). When doing matrix addition, validate that the matrices have the same size. When doing matrix multiplication, validate that the sizes conform (i.e. number of columns in the first matrix is equal to the number of rows in the second matrix).**"
   ]
  },
  {
   "cell_type": "code",
   "execution_count": 160,
   "id": "3506f977-ac0a-473f-85bc-eec9f35dc498",
   "metadata": {},
   "outputs": [],
   "source": [
    "def add_mult_matrices(matrix1, matrix2, operation):\n",
    "    # Check that both are numpy-arrays\n",
    "    if not isinstance(matrix1, np.ndarray) or not isinstance(matrix2, np.ndarray):\n",
    "        raise TypeError(\"Both inputs must be of type numpy.ndarray.\")\n",
    "    \n",
    "    # Check that the operation is valid\n",
    "    if operation not in ('add', 'multiply', 'subtract'):\n",
    "        raise ValueError(\"Operation must be either 'add' or 'multiply'.\")\n",
    "    \n",
    "    # Addition\n",
    "    if operation == 'add':\n",
    "        if matrix1.shape != matrix2.shape:\n",
    "            raise ValueError(\"For addition, matrices must have the same size.\")\n",
    "        return matrix1 + matrix2\n",
    "        \n",
    "    # Multiply\n",
    "    elif operation == 'multiply':\n",
    "        if matrix1.shape[1] != matrix2.shape[0]:\n",
    "            raise ValueError(\"For multiplication, number of columns in the first matrix must equal number of rows in the second.\")\n",
    "        return matrix1 @ matrix2  # eller np.matmul(matrix1, matrix2)\n"
   ]
  },
  {
   "cell_type": "code",
   "execution_count": 180,
   "id": "8be1d5f3-5081-4db1-9f37-accd83db7f6b",
   "metadata": {},
   "outputs": [
    {
     "name": "stdout",
     "output_type": "stream",
     "text": [
      "Test of addition of my matrices:\n",
      "[[ 6  8]\n",
      " [10 12]]\n",
      "\n",
      "Test of multiplication of my matrices:\n",
      "[[19 22]\n",
      " [43 50]]\n"
     ]
    }
   ],
   "source": [
    "my_matrix1 = np.array([[1, 2], [3, 4]])\n",
    "my_matrix2 = np.array([[5, 6],[7, 8]])\n",
    "\n",
    "print(\"Test of addition of my matrices:\")\n",
    "print(add_mult_matrices(my_matrix1, my_matrix2, 'add'))\n",
    "print()\n",
    "print(\"Test of multiplication of my matrices:\")\n",
    "print(add_mult_matrices(my_matrix1, my_matrix2, 'multiply'))"
   ]
  },
  {
   "cell_type": "markdown",
   "id": "8dad82d0-2359-4dff-8f5b-a57d3e34103c",
   "metadata": {},
   "source": [
    "### Solve all the exercises in chapter 10.1 in the book \"Matematik för yrkeshögskolan\". "
   ]
  },
  {
   "cell_type": "code",
   "execution_count": 198,
   "id": "89df88af-3668-4d98-a0a4-e6d92eea0f89",
   "metadata": {},
   "outputs": [
    {
     "name": "stdout",
     "output_type": "stream",
     "text": [
      "a) Dimension (1, 2)\n"
     ]
    }
   ],
   "source": [
    "# 10.1.1\n",
    "# x = (4,3)\n",
    "\n",
    "# a) vektorn x har dimension 1x2\n",
    "x = np.array([[4, 3]])\n",
    "print(\"a) Dimension\", np.shape(x))\n",
    "\n",
    "\n"
   ]
  },
  {
   "cell_type": "code",
   "execution_count": 78,
   "id": "4889adfe-1925-41c2-b51a-ed53d03ee54d",
   "metadata": {},
   "outputs": [
    {
     "name": "stdout",
     "output_type": "stream",
     "text": [
      "b) 5x =  [[20 15]]\n"
     ]
    }
   ],
   "source": [
    "# b)\n",
    "# 5x = (5*4, 5*3) = (20, 15)\n",
    "b = 5*x\n",
    "print(\"b) 5x = \", b)\n",
    "\n"
   ]
  },
  {
   "cell_type": "code",
   "execution_count": 80,
   "id": "0f7a5530-96ba-4d08-a089-2783c498d183",
   "metadata": {},
   "outputs": [
    {
     "name": "stdout",
     "output_type": "stream",
     "text": [
      "c) 3x =  [[12  9]]\n"
     ]
    }
   ],
   "source": [
    "# c)\n",
    "# 3x = (3*4, 3*3) = (12, 9)\n",
    "c = 3*x\n",
    "print(\"c) 3x = \", c)\n"
   ]
  },
  {
   "cell_type": "code",
   "execution_count": 84,
   "id": "b8dfda2d-d11e-4e8c-a151-a8047fc83316",
   "metadata": {},
   "outputs": [
    {
     "name": "stdout",
     "output_type": "stream",
     "text": [
      "d) 5x + 3x =  [[32 24]]\n"
     ]
    }
   ],
   "source": [
    "# d)\n",
    "# 5x + 3x = (20+12), (15+9) = (32, 24)\n",
    "d = b+c\n",
    "print(\"d) 5x + 3x = \", d)\n"
   ]
  },
  {
   "cell_type": "code",
   "execution_count": 184,
   "id": "c9aa836e-932f-4afc-893f-f12d1f71e8ce",
   "metadata": {},
   "outputs": [
    {
     "name": "stdout",
     "output_type": "stream",
     "text": [
      "e) 8x =  [[32 24]]\n"
     ]
    }
   ],
   "source": [
    "# e)\n",
    "# 8x= (8*4, 8*3) = (32, 24)\n",
    "e = 8*x\n",
    "print(\"e) 8x = \", e)\n"
   ]
  },
  {
   "cell_type": "code",
   "execution_count": 90,
   "id": "4c58cb64-0774-4306-8aae-efb4731de6f3",
   "metadata": {},
   "outputs": [
    {
     "name": "stdout",
     "output_type": "stream",
     "text": [
      "f) 4x - x =  [[12  9]]\n"
     ]
    }
   ],
   "source": [
    "# f)\n",
    "# 4x - x = (4*4, 4*3) - (4,3)= (16, 12) - (4,3) = (12,9)\n",
    "f = 4*x - x\n",
    "print(\"f) 4x - x = \", f)\n"
   ]
  },
  {
   "cell_type": "code",
   "execution_count": 200,
   "id": "749dfa1f-9007-48bf-b873-d3c0bf15c19a",
   "metadata": {},
   "outputs": [
    {
     "name": "stdout",
     "output_type": "stream",
     "text": [
      "[[4]\n",
      " [3]]\n",
      "g) Ny dimension efter transpose är  (2, 1)\n"
     ]
    }
   ],
   "source": [
    "# g) Ny dimension efter transpose är 2x1\n",
    "transposed_matrix = x.T\n",
    "g = transposed_matrix\n",
    "print(g)\n",
    "print(\"g) Ny dimension efter transpose är \", np.shape(g))\n"
   ]
  },
  {
   "cell_type": "code",
   "execution_count": 102,
   "id": "b40d9592-adff-471c-a556-097f9bb147b0",
   "metadata": {},
   "outputs": [],
   "source": [
    "# h)  x + x⊤ är inte definierat eftersom x är en 1×2 vektor och x⊤ är en 2×1 vektor.\n"
   ]
  },
  {
   "cell_type": "code",
   "execution_count": 112,
   "id": "dadb0743-4aa9-48b9-b30d-07368ac287bb",
   "metadata": {},
   "outputs": [
    {
     "name": "stdout",
     "output_type": "stream",
     "text": [
      "i) ||x|| =  5.0\n"
     ]
    }
   ],
   "source": [
    "# i) \n",
    "# ||x|| normen av x=(4,3) dvs längden på vektorn\n",
    "norm = np.linalg.norm(x)\n",
    "print(\"i) ||x|| = \", norm)\n"
   ]
  },
  {
   "cell_type": "code",
   "execution_count": 210,
   "id": "2a171a57-d499-43c9-94c2-8587cbdbdd15",
   "metadata": {},
   "outputs": [
    {
     "name": "stdout",
     "output_type": "stream",
     "text": [
      "a) Dimension (4, 1)\n"
     ]
    }
   ],
   "source": [
    "# 10.1.2\n",
    "# v = (3,7,0,11)\n",
    "# a) \n",
    "v = np.array([[3],[7],[0],[11]])\n",
    "#print(v)\n",
    "print(\"a) Dimension\", v.shape)\n",
    "\n"
   ]
  },
  {
   "cell_type": "code",
   "execution_count": 208,
   "id": "fd4c7b81-d2ec-4678-8495-f8f694c41b69",
   "metadata": {},
   "outputs": [
    {
     "name": "stdout",
     "output_type": "stream",
     "text": [
      "b) 2v =  [[ 6]\n",
      " [14]\n",
      " [ 0]\n",
      " [22]]\n"
     ]
    }
   ],
   "source": [
    "# b) \n",
    "b = 2*v\n",
    "print(\"b) 2v = \", b)\n",
    "\n"
   ]
  },
  {
   "cell_type": "code",
   "execution_count": 212,
   "id": "2b3a7494-5f3e-44f2-9cc2-4b8e6aa73c26",
   "metadata": {},
   "outputs": [
    {
     "name": "stdout",
     "output_type": "stream",
     "text": [
      "b) 5v * 2v =  [[21]\n",
      " [49]\n",
      " [ 0]\n",
      " [77]]\n"
     ]
    }
   ],
   "source": [
    "# c) \n",
    "c = 5*v + 2*v\n",
    "print(\"b) 5v * 2v = \", c)\n",
    "\n"
   ]
  },
  {
   "cell_type": "code",
   "execution_count": 220,
   "id": "df3dd766-675c-446a-b23c-1942e92990bf",
   "metadata": {},
   "outputs": [
    {
     "name": "stdout",
     "output_type": "stream",
     "text": [
      "b) 4v - 2v =  [[ 6]\n",
      " [14]\n",
      " [ 0]\n",
      " [22]]\n"
     ]
    }
   ],
   "source": [
    "# d)\n",
    "d = 4*v - 2*v\n",
    "print(\"b) 4v - 2v = \", d)\n",
    "\n"
   ]
  },
  {
   "cell_type": "code",
   "execution_count": 222,
   "id": "27a844f0-ca36-4109-bc3c-b0245909378a",
   "metadata": {},
   "outputs": [
    {
     "name": "stdout",
     "output_type": "stream",
     "text": [
      "[[ 3  7  0 11]]\n",
      "e) Ny dimension efter transpose är  (1, 4)\n"
     ]
    }
   ],
   "source": [
    "# e\n",
    "# Ny dimension efter transpose är 1x4\n",
    "transposed_matrix = v.T\n",
    "e = transposed_matrix\n",
    "print(e)\n",
    "print(\"e) Ny dimension efter transpose är \", np.shape(e))\n"
   ]
  },
  {
   "cell_type": "code",
   "execution_count": 224,
   "id": "79eab35e-76a6-41c6-bbb3-4dd2d318bbac",
   "metadata": {},
   "outputs": [
    {
     "name": "stdout",
     "output_type": "stream",
     "text": [
      "f) ||v|| =  13.379088160259652\n"
     ]
    }
   ],
   "source": [
    "# f)\n",
    "# ||v|| normen av v = (3,7,0,11) dvs längden på vektorn från origo\n",
    "norm = np.linalg.norm(v)\n",
    "print(\"f) ||v|| = \", norm)\n",
    "\n"
   ]
  },
  {
   "cell_type": "code",
   "execution_count": 228,
   "id": "fca56759-212f-4061-8580-0e989fabe5ce",
   "metadata": {},
   "outputs": [
    {
     "name": "stdout",
     "output_type": "stream",
     "text": [
      "a) ||v1|| =  7.14142842854285\n"
     ]
    }
   ],
   "source": [
    "# 10.1.3\n",
    "#a)\n",
    "v1 = (4,3,1,5)\n",
    "v2 = (2,3,1,1)\n",
    "normv1 = np.linalg.norm(v1)\n",
    "print(\"a) ||v1|| = \", normv1)\n",
    "\n"
   ]
  },
  {
   "cell_type": "code",
   "execution_count": 238,
   "id": "e8f9a46e-c99c-4818-9aa6-03413b0f46f6",
   "metadata": {},
   "outputs": [
    {
     "name": "stdout",
     "output_type": "stream",
     "text": [
      "b) ||v1-v2|| =  3.2684450823354334\n"
     ]
    }
   ],
   "source": [
    "# b)\n",
    "normv2 = np.linalg.norm(v2)\n",
    "calc = normv1 - normv2\n",
    "print(\"b) ||v1-v2|| = \", calc)\n",
    "\n"
   ]
  },
  {
   "cell_type": "markdown",
   "id": "75c98984-1f88-4df1-b850-d2466de444a5",
   "metadata": {},
   "source": [
    "### Solve all the exercises, except 10.2.4, in chapter 10.2 in the book \"Matematik för yrkeshögskolan\". "
   ]
  },
  {
   "cell_type": "code",
   "execution_count": 308,
   "id": "65371610-16e1-48b2-b7fb-65e49002608a",
   "metadata": {},
   "outputs": [],
   "source": [
    "# 10.2.1\n",
    "A = np.array([[2, 1, -1],\n",
    "              [1, -1, 1]])\n",
    "B = np.array([[4, -2, 1],\n",
    "              [2, -4, -2]])\n",
    "C = np.array([[1, 2],\n",
    "              [2, 1]])\n",
    "D = np.array([[3, 4],\n",
    "              [4, 3]])\n",
    "E = np.array([[1],\n",
    "              [2]])\n",
    "I = np.array([[1, 0],\n",
    "              [0, 1]])\n"
   ]
  },
  {
   "cell_type": "code",
   "execution_count": 328,
   "id": "401be125-d28a-46dd-8278-93b4c662f479",
   "metadata": {},
   "outputs": [
    {
     "name": "stdout",
     "output_type": "stream",
     "text": [
      "a) 2A = \n",
      "[[ 4  6  8]\n",
      " [10  8  2]]\n"
     ]
    }
   ],
   "source": [
    "# a\n",
    "# 2A\n",
    "a = 2*A\n",
    "print(\"a) 2A = \")\n",
    "print(a)"
   ]
  },
  {
   "cell_type": "code",
   "execution_count": 330,
   "id": "b459e2fa-efdf-47c7-afa1-c3a8b920cd95",
   "metadata": {},
   "outputs": [
    {
     "name": "stdout",
     "output_type": "stream",
     "text": [
      "b) B - 2A = \n",
      "[[  0  -8  -7]\n",
      " [ -8 -12  -4]]\n"
     ]
    }
   ],
   "source": [
    "# b\n",
    "# B - 2A\n",
    "b = B-a\n",
    "print(\"b) B - 2A = \")\n",
    "print(b)"
   ]
  },
  {
   "cell_type": "code",
   "execution_count": 332,
   "id": "00cb842f-3220-4fe4-b88c-21f139d5ae81",
   "metadata": {},
   "outputs": [
    {
     "name": "stdout",
     "output_type": "stream",
     "text": [
      "C dimension:  (2, 2)\n",
      "E dimension:  (2, 1)\n",
      "Not defined because the matrices do not have the same number of columns\n"
     ]
    }
   ],
   "source": [
    "# c\n",
    "# 3C - 2E\n",
    "print(\"C dimension: \", C.shape)\n",
    "print(\"E dimension: \", E.shape)\n",
    "print(\"Not defined because the matrices do not have the same number of columns\")"
   ]
  },
  {
   "cell_type": "code",
   "execution_count": 334,
   "id": "f77fb1de-bdb3-4f9c-8e56-d47a8a381791",
   "metadata": {},
   "outputs": [
    {
     "name": "stdout",
     "output_type": "stream",
     "text": [
      "a) 2D - 3C = \n",
      "[[3 2]\n",
      " [2 3]]\n"
     ]
    }
   ],
   "source": [
    "# d\n",
    "# 2D - 3C\n",
    "two_d = 2*D\n",
    "three_c = 3*C\n",
    "d = two_d - three_c\n",
    "print(\"a) 2D - 3C = \")\n",
    "print(d)"
   ]
  },
  {
   "cell_type": "code",
   "execution_count": 336,
   "id": "92740858-e16d-4c21-9c8a-a56ae1d311b8",
   "metadata": {},
   "outputs": [
    {
     "name": "stdout",
     "output_type": "stream",
     "text": [
      "D Transposed + 2D = \n",
      "[[ 9 12]\n",
      " [12  9]]\n"
     ]
    }
   ],
   "source": [
    "# e\n",
    "# D Transposed + 2D\n",
    "transposed_matrix_D = D.T\n",
    "e = transposed_matrix_D + two_d\n",
    "print(\"D Transposed + 2D = \")\n",
    "print(e)"
   ]
  },
  {
   "cell_type": "code",
   "execution_count": 338,
   "id": "10015a4b-2365-4a38-882f-475da681ae71",
   "metadata": {},
   "outputs": [
    {
     "name": "stdout",
     "output_type": "stream",
     "text": [
      "2*C Transposed - 2*D Transposed = \n",
      "[[-4 -4]\n",
      " [-4 -4]]\n"
     ]
    }
   ],
   "source": [
    "# f\n",
    "# 2C transposed - 2D Transposed\n",
    "transposed_matrix_C = C.T\n",
    "f = 2*transposed_matrix_C - 2*transposed_matrix_D\n",
    "print(\"2*C Transposed - 2*D Transposed = \")\n",
    "print(f)"
   ]
  },
  {
   "cell_type": "code",
   "execution_count": 340,
   "id": "2b85b144-9cd3-41c8-9802-13773b959454",
   "metadata": {},
   "outputs": [
    {
     "name": "stdout",
     "output_type": "stream",
     "text": [
      "A transposed dimension:  (3, 2)\n",
      "B dimension:  (2, 3)\n",
      "Not defined because the matrices do not have the same number of columns and rows when matrix A have been transposed\n"
     ]
    }
   ],
   "source": [
    "# g\n",
    "# A transposed - B\n",
    "transposed_matrix_A = A.T\n",
    "print(\"A transposed dimension: \", transposed_matrix_A.shape)\n",
    "print(\"B dimension: \", B.shape)\n",
    "print(\"Not defined because the matrices do not have the same number of columns and rows when matrix A have been transposed\")"
   ]
  },
  {
   "cell_type": "code",
   "execution_count": 350,
   "id": "ac95d3e7-8e2a-4b29-b34d-ef3eb4d264ca",
   "metadata": {},
   "outputs": [
    {
     "name": "stdout",
     "output_type": "stream",
     "text": [
      "A dimension:  (2, 3)\n",
      "C dimension:  (2, 2)\n",
      "Not defined because the matrices do not have the same number of columns\n"
     ]
    }
   ],
   "source": [
    "# h\n",
    "# AC\n",
    "print(\"A dimension: \", A.shape)\n",
    "print(\"C dimension: \", C.shape)\n",
    "print(\"Not defined because the matrices do not have the same number of columns\")"
   ]
  },
  {
   "cell_type": "code",
   "execution_count": 342,
   "id": "6b611473-bdf3-4f0b-8e19-24aab18d25bf",
   "metadata": {},
   "outputs": [
    {
     "name": "stdout",
     "output_type": "stream",
     "text": [
      "CD =\n",
      "[[11 10]\n",
      " [10 11]]\n"
     ]
    }
   ],
   "source": [
    "# i\n",
    "# CD\n",
    "i = C@D\n",
    "print(\"CD =\")\n",
    "print(i)"
   ]
  },
  {
   "cell_type": "code",
   "execution_count": 352,
   "id": "19775dcc-759e-4aaa-bcfe-2a4128850811",
   "metadata": {},
   "outputs": [
    {
     "name": "stdout",
     "output_type": "stream",
     "text": [
      "CB =\n",
      "[[  8 -10  -3]\n",
      " [ 10  -8   0]]\n"
     ]
    }
   ],
   "source": [
    "# j\n",
    "# CB\n",
    "j = C@B\n",
    "print(\"CB =\")\n",
    "print(j)"
   ]
  },
  {
   "cell_type": "code",
   "execution_count": 356,
   "id": "7e829b6c-0412-486d-9767-da119c5090e1",
   "metadata": {},
   "outputs": [
    {
     "name": "stdout",
     "output_type": "stream",
     "text": [
      "CI =\n",
      "[[1 2]\n",
      " [2 1]]\n"
     ]
    }
   ],
   "source": [
    "# k\n",
    "# CI\n",
    "k = C@I\n",
    "print(\"CI =\")\n",
    "print(k)"
   ]
  },
  {
   "cell_type": "code",
   "execution_count": 360,
   "id": "73b2e6ba-5cbe-4805-97f7-9e6b66edd122",
   "metadata": {},
   "outputs": [
    {
     "name": "stdout",
     "output_type": "stream",
     "text": [
      "A * B transposed =\n",
      "[[  6 -16]\n",
      " [ 13  -8]]\n"
     ]
    }
   ],
   "source": [
    "# l\n",
    "# A * B transposed\n",
    "transposed_matrix_B = B.T\n",
    "l = A@transposed_matrix_B\n",
    "print(\"A * B transposed =\")\n",
    "print(l)"
   ]
  },
  {
   "cell_type": "code",
   "execution_count": 362,
   "id": "69b0bf1c-bfc6-41ce-94b4-52cabb24c60d",
   "metadata": {},
   "outputs": [
    {
     "name": "stdout",
     "output_type": "stream",
     "text": [
      "[[2 3 4]\n",
      " [5 4 1]]\n",
      "\n",
      "A * A transposed =\n",
      "[[29 26]\n",
      " [26 42]]\n"
     ]
    }
   ],
   "source": [
    "# 10.2.2\n",
    "A = np.array([[2, 3, 4],\n",
    "              [5, 4, 1]])\n",
    "print(A)\n",
    "print()\n",
    "transposed_matrix_A = A.T\n",
    "result = A@transposed_matrix_A\n",
    "print(\"A * A transposed =\")\n",
    "print(result)"
   ]
  },
  {
   "cell_type": "code",
   "execution_count": 366,
   "id": "3832b67b-9fb2-4590-bcb8-7d705f63e31a",
   "metadata": {},
   "outputs": [],
   "source": [
    "# 10.2.3\n",
    "A = np.array([[1, 2],\n",
    "              [2, 4]])\n",
    "B = np.array([[2, 1],\n",
    "              [1, 3]])\n",
    "C = np.array([[4, 3],\n",
    "              [0, 2]])"
   ]
  },
  {
   "cell_type": "code",
   "execution_count": 378,
   "id": "645c5d7f-ce5b-497c-9e48-78f4753bdf98",
   "metadata": {},
   "outputs": [
    {
     "name": "stdout",
     "output_type": "stream",
     "text": [
      "AB = \n",
      "[[ 4  7]\n",
      " [ 8 14]]\n",
      "AC = \n",
      "[[ 4  7]\n",
      " [ 8 14]]\n",
      "B = \n",
      "[[2 1]\n",
      " [1 3]]\n",
      "C = \n",
      "[[4 3]\n",
      " [0 2]]\n"
     ]
    }
   ],
   "source": [
    "# AB = AC  B != C\n",
    "A = np.array([[1, 2],\n",
    "              [2, 4]])\n",
    "B = np.array([[2, 1],\n",
    "              [1, 3]])\n",
    "C = np.array([[4, 3],\n",
    "              [0, 2]])\n",
    "\n",
    "AB = A@B\n",
    "AC = A@C\n",
    "print(\"AB = \")\n",
    "print(AB)\n",
    "print(\"AC = \")\n",
    "print(AC)\n",
    "print(\"B = \")\n",
    "print(B)\n",
    "print(\"C = \")\n",
    "print(C)"
   ]
  },
  {
   "cell_type": "markdown",
   "id": "6a4a524f",
   "metadata": {},
   "source": [
    "### Copies and Views\n",
    "Read the following link: https://numpy.org/doc/stable/user/basics.copies.html"
   ]
  },
  {
   "cell_type": "markdown",
   "id": "6cbbeaf7",
   "metadata": {},
   "source": [
    "**Basic indexing creates a view, How can you check if v1 and v2 is a view or copy? If you change the last element in v2 to 123, will the last element in v1 be changed? Why?**"
   ]
  },
  {
   "cell_type": "code",
   "execution_count": 388,
   "id": "5b9ef4df",
   "metadata": {},
   "outputs": [
    {
     "name": "stdout",
     "output_type": "stream",
     "text": [
      "[0 1 2 3]\n",
      "[2 3]\n"
     ]
    }
   ],
   "source": [
    "v1 = np.arange(4)\n",
    "v2 = v1[-2:] # Creates a view, not a copy i.e. v2 points at the same data as v1.\n",
    "print(v1)\n",
    "print(v2)"
   ]
  },
  {
   "cell_type": "code",
   "execution_count": 390,
   "id": "d2440489",
   "metadata": {},
   "outputs": [
    {
     "name": "stdout",
     "output_type": "stream",
     "text": [
      "None\n",
      "[0 1 2 3]\n"
     ]
    }
   ],
   "source": [
    "# The base attribute is used to check the base of the array, i.e. if it is a copy of another array or not.\n",
    "# The base attribute returns None if it is not a copy (it is the original)\n",
    "# The base attribute returns the array if it is a view of another array, i.e. it is a view\n",
    "print(v1.base) # → None (v1 is not a copy, it is the original)\n",
    "print(v2.base) # → array([...]) (v2 is a view of v1)"
   ]
  },
  {
   "cell_type": "code",
   "execution_count": 392,
   "id": "c8752807",
   "metadata": {},
   "outputs": [
    {
     "name": "stdout",
     "output_type": "stream",
     "text": [
      "[  0   1   2 123]\n",
      "[  2 123]\n"
     ]
    }
   ],
   "source": [
    "# The last element in v1 will be changed aswell since v2 is a view, meaning they share the same data buffer.\n",
    "v2[-1] = 123\n",
    "print(v1)\n",
    "print(v2)"
   ]
  },
  {
   "cell_type": "code",
   "execution_count": null,
   "id": "3dd68221",
   "metadata": {},
   "outputs": [],
   "source": []
  }
 ],
 "metadata": {
  "kernelspec": {
   "display_name": "Python [conda env:base] *",
   "language": "python",
   "name": "conda-base-py"
  },
  "language_info": {
   "codemirror_mode": {
    "name": "ipython",
    "version": 3
   },
   "file_extension": ".py",
   "mimetype": "text/x-python",
   "name": "python",
   "nbconvert_exporter": "python",
   "pygments_lexer": "ipython3",
   "version": "3.12.7"
  }
 },
 "nbformat": 4,
 "nbformat_minor": 5
}
